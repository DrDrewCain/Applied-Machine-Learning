{
 "cells": [
  {
   "cell_type": "code",
   "execution_count": 2,
   "metadata": {},
   "outputs": [],
   "source": [
    "import torch\n",
    "import torch.nn as nn\n",
    "import torch.optim as optim\n",
    "from torchvision import datasets, transforms\n",
    "from torch.utils.data import DataLoader"
   ]
  },
  {
   "cell_type": "markdown",
   "metadata": {},
   "source": [
    "# Q 1 Load the dataset"
   ]
  },
  {
   "cell_type": "code",
   "execution_count": 3,
   "metadata": {},
   "outputs": [],
   "source": [
    "transform = transforms . Compose ([ transforms . ToTensor () ,\n",
    "transforms . Normalize ((0.5 , ) ,\n",
    "(0.5 ,) ) ])\n",
    "trainset = datasets . FashionMNIST ( ' ~/. pytorch / F_MNIST_data / ' ,\n",
    "download = True , train = True , transform = transform )\n",
    "trainloader = torch . utils . data . DataLoader ( trainset , batch_size\n",
    "=32 , shuffle = True )\n",
    "testset = datasets . FashionMNIST ( ' ~/. pytorch / F_MNIST_data / ' ,\n",
    "download = True , train = False , transform = transform )\n",
    "testloader = torch . utils . data . DataLoader ( testset , batch_size =32 ,\n",
    "shuffle = False )"
   ]
  },
  {
   "cell_type": "code",
   "execution_count": null,
   "metadata": {},
   "outputs": [],
   "source": []
  },
  {
   "cell_type": "code",
   "execution_count": 4,
   "metadata": {},
   "outputs": [
    {
     "name": "stdout",
     "output_type": "stream",
     "text": [
      "torch.Size([32, 1, 28, 28]) torch.Size([32])\n"
     ]
    }
   ],
   "source": [
    "batch = next ( iter ( trainloader ) )\n",
    "print ( batch [0]. shape , batch [1]. shape )"
   ]
  },
  {
   "cell_type": "code",
   "execution_count": 5,
   "metadata": {},
   "outputs": [
    {
     "data": {
      "image/png": "[encoded data removed]",
      "text/plain": [
       "<Figure size 640x480 with 10 Axes>"
      ]
     },
     "metadata": {},
     "output_type": "display_data"
    }
   ],
   "source": [
    "import matplotlib . pyplot as plt\n",
    "f , ax = plt . subplots (2 , 5)\n",
    "plt . subplots_adjust ( bottom =0.3 , top =0.7 , hspace =0)\n",
    "for i in range (2) :\n",
    "    for j in range (5) :\n",
    "        image , label = next ( iter ( trainloader ) )\n",
    "        ax [ i ][ j ]. set_axis_off ()\n",
    "        ax [ i ][ j ]. imshow ( image [0 ,0 ,:] , cmap = 'gray')"
   ]
  },
  {
   "cell_type": "markdown",
   "metadata": {},
   "source": [
    "# Q 2 Multilayer Perceptrons"
   ]
  },
  {
   "cell_type": "markdown",
   "metadata": {},
   "source": [
    "# Flattening is done in the def train_model using images.view(images.size(0), -1)"
   ]
  },
  {
   "cell_type": "code",
   "execution_count": 6,
   "metadata": {},
   "outputs": [],
   "source": [
    "# Define the model building function\n",
    "def build_model(input_size, hidden_layers, output_size, activation_fn):\n",
    "    layers = [nn.Linear(input_size, hidden_layers[0]), activation_fn()]\n",
    "    for i in range(1, len(hidden_layers)):\n",
    "        layers.append(nn.Linear(hidden_layers[i-1], hidden_layers[i]))\n",
    "        layers.append(activation_fn())\n",
    "        layers.append(nn.Dropout(0.2))\n",
    "    layers.append(nn.Linear(hidden_layers[-1], output_size))\n",
    "    return nn.Sequential(*layers)\n",
    "\n",
    "def train_model(model, trainloader, criterion, optimizer, num_epochs):\n",
    "    model.train()\n",
    "    for epoch in range(num_epochs):\n",
    "        total = 0\n",
    "        correct = 0\n",
    "        for images, labels in trainloader:\n",
    "            images = images.view(images.size(0), -1) # This flattens the image\n",
    "            optimizer.zero_grad()\n",
    "            outputs = model(images)\n",
    "            loss = criterion(outputs, labels)\n",
    "            loss.backward()\n",
    "            optimizer.step()\n",
    "\n",
    "            # Calculate training accuracy\n",
    "            _, predicted = torch.max(outputs.data, 1)\n",
    "            total += labels.size(0)\n",
    "            correct += (predicted == labels).sum().item()\n",
    "    training_accuracy = correct / total\n",
    "    return training_accuracy\n",
    "\n",
    "# Evaluation function\n",
    "def evaluate_model(model, testloader):\n",
    "    model.eval()\n",
    "    correct = 0\n",
    "    total = 0\n",
    "    with torch.no_grad():\n",
    "        for images, labels in testloader:\n",
    "            images = images.view(images.size(0), -1)\n",
    "            outputs = model(images)\n",
    "            _, predicted = torch.max(outputs.data, 1)\n",
    "            total += labels.size(0)\n",
    "            correct += (predicted == labels).sum().item()\n",
    "    return correct / total\n"
   ]
  },
  {
   "cell_type": "markdown",
   "metadata": {},
   "source": [
    "# Experimenting with 5 different structures and run on 30 epoch"
   ]
  },
  {
   "cell_type": "code",
   "execution_count": 7,
   "metadata": {},
   "outputs": [
    {
     "name": "stdout",
     "output_type": "stream",
     "text": [
      "[64]\n",
      "Structure: [32], Activation Function: ReLU, Training Accuracy: 0.90%, Testing Accuracy: 0.87%\n",
      "Structure: [64], Activation Function: ReLU, Training Accuracy: 0.91%, Testing Accuracy: 0.88%\n",
      "Structure: [128], Activation Function: ReLU, Training Accuracy: 0.92%, Testing Accuracy: 0.88%\n",
      "Structure: [32, 16], Activation Function: ReLU, Training Accuracy: 0.87%, Testing Accuracy: 0.86%\n",
      "Structure: [64, 32, 16], Activation Function: ReLU, Training Accuracy: 0.87%, Testing Accuracy: 0.87%\n",
      "Structure: [64], Activation Function: Sigmoid, Training Accuracy: 0.88%, Testing Accuracy: 0.86%\n",
      "Structure: [64], Activation Function: ELU, Training Accuracy: 0.90%, Testing Accuracy: 0.88%\n",
      "Structure: [64], Activation Function: LeakyReLU, Training Accuracy: 0.91%, Testing Accuracy: 0.88%\n"
     ]
    }
   ],
   "source": [
    "# Experiment configurations\n",
    "network_structures = [[32], [64], [128], [32, 16], [64, 32, 16]]\n",
    "input_size = 28*28  # 784 input features\n",
    "output_size = 10    # 10 classes\n",
    "num_epochs = 30     # Reduced for quicker experimentation\n",
    "\n",
    "results = []\n",
    "\n",
    "# Experiment with different network structures\n",
    "for structure in network_structures:\n",
    "    model = build_model(input_size, structure, output_size, nn.ReLU)\n",
    "    criterion = nn.CrossEntropyLoss()\n",
    "    optimizer = optim.SGD(model.parameters(), lr=0.01)\n",
    "    training_accuracy = train_model(model, trainloader, criterion, optimizer, num_epochs)\n",
    "    test_accuracy = evaluate_model(model, testloader)\n",
    "    results.append({\n",
    "        'structure': structure, \n",
    "        'activation_function': 'ReLU', \n",
    "        'training_accuracy': training_accuracy, \n",
    "        'test_accuracy': test_accuracy\n",
    "    })\n",
    "\n",
    "# Find the best performing structure\n",
    "best_structure = max(results, key=lambda x: x['this is the test_accuracy'])['this is the best structure']\n",
    "print(best_structure)\n",
    "\n",
    "activation_functions = [nn.Sigmoid, nn.ELU, nn.LeakyReLU]\n",
    "\n",
    "# Experiment with different activation functions on the best performing structure\n",
    "for activation_fn in activation_functions:\n",
    "    model = build_model(input_size, best_structure, output_size, activation_fn)\n",
    "    criterion = nn.CrossEntropyLoss()\n",
    "    optimizer = optim.SGD(model.parameters(), lr=0.01)\n",
    "    training_accuracy = train_model(model, trainloader, criterion, optimizer, num_epochs)\n",
    "    test_accuracy = evaluate_model(model, testloader)\n",
    "    results.append({\n",
    "        'structure': best_structure, \n",
    "        'activation_function': activation_fn.__name__, \n",
    "        'training_accuracy': training_accuracy, \n",
    "        'test_accuracy': test_accuracy\n",
    "    })\n",
    "\n",
    "# Print the results\n",
    "for result in results:\n",
    "    print(f\"Structure: {result['structure']}, \"\n",
    "          f\"Activation Function: {result['activation_function']}, \"\n",
    "          f\"Training Accuracy: {result['training_accuracy']:.2f}%, \"\n",
    "          f\"Testing Accuracy: {result['test_accuracy']:.2f}%\")\n",
    "\n",
    "# Summarize insights here"
   ]
  },
  {
   "cell_type": "markdown",
   "metadata": {},
   "source": [
    "# Implement the CNN "
   ]
  },
  {
   "cell_type": "code",
   "execution_count": null,
   "metadata": {},
   "outputs": [
    {
     "name": "stdout",
     "output_type": "stream",
     "text": [
      "Conv2d output shape:\t torch.Size([1, 32, 26, 26])\n",
      "MaxPool2d output shape:\t torch.Size([1, 32, 13, 13])\n",
      "Flatten output shape:\t torch.Size([1, 5408])\n",
      "Linear output shape:\t torch.Size([1, 100])\n",
      "ReLU output shape:\t torch.Size([1, 100])\n",
      "Linear output shape:\t torch.Size([1, 10])\n",
      "Number of trainable parameters: 542230\n"
     ]
    }
   ],
   "source": [
    "import torch\n",
    "import torch.nn as nn\n",
    "import torch.optim as optim\n",
    "from torch.utils.data import DataLoader\n",
    "\n",
    "def init_weights(m):\n",
    "    if isinstance(m, (nn.Linear, nn.Conv2d)):\n",
    "        nn.init.xavier_uniform_(m.weight)\n",
    "        m.bias.data.fill_(0.01)\n",
    "\n",
    "# Define the CNN architecture\n",
    "class BaselineCNN(nn.Module):\n",
    "    def __init__(self):\n",
    "        super(BaselineCNN, self).__init__()\n",
    "        self.conv1 = nn.Conv2d(in_channels=1, out_channels=32, kernel_size=3)  # (a)\n",
    "        self.pool = nn.MaxPool2d(kernel_size=2, stride=2)  # (b)\n",
    "        self.flatten = nn.Flatten()  # (c)\n",
    "        self.fc1 = nn.Linear(32 * 13 * 13, 100)  # (d)\n",
    "        self.relu = nn.ReLU()\n",
    "        self.fc2 = nn.Linear(100, 10)  # (e)\n",
    "\n",
    "    def forward(self, x):\n",
    "        x = self.pool(self.relu(self.conv1(x)))  # Convolutional layer and MaxPool\n",
    "        x = self.flatten(x)  # FlattenI just \n",
    "        x = self.relu(self.fc1(x))  # Dense layer with ReLU\n",
    "        x = self.fc2(x)  # Output layer\n",
    "        return x\n",
    "\n",
    "# Instantiate the model\n",
    "model = BaselineCNN()\n",
    "model.apply(init_weights)\n",
    "\n",
    "# Set up optimizer and loss function\n",
    "optimizer = optim.SGD(model.parameters(), lr=0.01, momentum=0.9)  # SGD with specified parameters\n",
    "loss = nn.CrossEntropyLoss()\n",
    "\n",
    "# Print the shape of the output at each layer\n",
    "X = torch.ones((1, 1, 28, 28))\n",
    "for layer in model.children():\n",
    "    X = layer(X)\n",
    "    print(layer.__class__.__name__, 'output shape:\\t', X.shape)\n",
    "    \n",
    "# Count of trainable parameters\n",
    "trainable_params = sum(p.numel() for p in model.parameters() if p.requires_grad)\n",
    "print(\"Number of trainable parameters:\", trainable_params)\n"
   ]
  },
  {
   "cell_type": "code",
   "execution_count": 20,
   "metadata": {},
   "outputs": [
    {
     "name": "stdout",
     "output_type": "stream",
     "text": [
      "Epoch 1, Loss: 0.4137652009606361\n",
      "Epoch 2, Loss: 0.2823184661169847\n",
      "Epoch 3, Loss: 0.24036266478399435\n",
      "Epoch 4, Loss: 0.21168482656528553\n",
      "Epoch 5, Loss: 0.18819348670740924\n",
      "Epoch 6, Loss: 0.16780168376813331\n",
      "Epoch 7, Loss: 0.15150895005787413\n",
      "Epoch 8, Loss: 0.13387283748735984\n",
      "Epoch 9, Loss: 0.1194387319383522\n",
      "Epoch 10, Loss: 0.10815670797750354\n",
      "Accuracy on test data: 90.58%\n"
     ]
    }
   ],
   "source": [
    "# Instantiate the model\n",
    "model = BaselineCNN()\n",
    "model.apply(init_weights)\n",
    "\n",
    "# Set up optimizer and loss function\n",
    "optimizer = optim.SGD(model.parameters(), lr=0.01, momentum=0.9)\n",
    "criterion = nn.CrossEntropyLoss()\n",
    "\n",
    "# Training Loop\n",
    "for epoch in range(10):  # 10 epochs\n",
    "    model.train()\n",
    "    running_loss = 0.0\n",
    "    for images, labels in trainloader:\n",
    "        # Zero the parameter gradients\n",
    "        optimizer.zero_grad()\n",
    "\n",
    "        # Forward pass\n",
    "        outputs = model(images)\n",
    "        loss = criterion(outputs, labels)\n",
    "\n",
    "        # Backward pass and optimize\n",
    "        loss.backward()\n",
    "        optimizer.step()\n",
    "\n",
    "        running_loss += loss.item()\n",
    "\n",
    "    print(f\"Epoch {epoch + 1}, Loss: {running_loss / len(trainloader)}\")\n",
    "\n",
    "# Evaluation\n",
    "model.eval()\n",
    "correct = 0\n",
    "total = 0\n",
    "with torch.no_grad():\n",
    "    for images, labels in testloader:\n",
    "        outputs = model(images)\n",
    "        _, predicted = torch.max(outputs.data, 1)\n",
    "        total += labels.size(0)\n",
    "        correct += (predicted == labels).sum().item()\n",
    "\n",
    "accuracy = 100 * correct / total\n",
    "print(f'Accuracy on test data: {accuracy:.2f}%')"
   ]
  },
  {
   "cell_type": "markdown",
   "metadata": {},
   "source": [
    "# Base CNN training without any Dropout or BatchNorm"
   ]
  },
  {
   "cell_type": "code",
   "execution_count": 21,
   "metadata": {},
   "outputs": [
    {
     "name": "stdout",
     "output_type": "stream",
     "text": [
      "Epoch 1, Loss: 0.4156704258561134, Training Accuracy: 85.06%, Validation Accuracy: 85.84%\n",
      "Epoch 2, Loss: 0.28800353210866453, Training Accuracy: 89.49%, Validation Accuracy: 89.54%\n",
      "Epoch 3, Loss: 0.24208891441524027, Training Accuracy: 91.12%, Validation Accuracy: 88.65%\n",
      "Epoch 4, Loss: 0.21493941565652688, Training Accuracy: 92.08%, Validation Accuracy: 89.65%\n",
      "Epoch 5, Loss: 0.19038809521098932, Training Accuracy: 92.98%, Validation Accuracy: 89.70%\n",
      "Epoch 6, Loss: 0.1717982600574692, Training Accuracy: 93.62%, Validation Accuracy: 90.97%\n",
      "Epoch 7, Loss: 0.15091543418318032, Training Accuracy: 94.45%, Validation Accuracy: 90.73%\n",
      "Epoch 8, Loss: 0.13751025452998777, Training Accuracy: 94.94%, Validation Accuracy: 90.74%\n",
      "Epoch 9, Loss: 0.12048198771501581, Training Accuracy: 95.48%, Validation Accuracy: 90.37%\n",
      "Epoch 10, Loss: 0.10944172521661967, Training Accuracy: 96.00%, Validation Accuracy: 91.06%\n",
      "Epoch 11, Loss: 0.09806719480901957, Training Accuracy: 96.36%, Validation Accuracy: 90.91%\n",
      "Epoch 12, Loss: 0.08596932228257259, Training Accuracy: 96.81%, Validation Accuracy: 90.89%\n",
      "Epoch 13, Loss: 0.07719934306200593, Training Accuracy: 97.19%, Validation Accuracy: 91.19%\n",
      "Epoch 14, Loss: 0.06913162987108032, Training Accuracy: 97.43%, Validation Accuracy: 90.36%\n",
      "Epoch 15, Loss: 0.06045333198520045, Training Accuracy: 97.75%, Validation Accuracy: 90.78%\n",
      "Epoch 16, Loss: 0.053616434006734444, Training Accuracy: 97.96%, Validation Accuracy: 91.17%\n",
      "Epoch 17, Loss: 0.05201180755995835, Training Accuracy: 98.06%, Validation Accuracy: 91.38%\n",
      "Epoch 18, Loss: 0.047748186167081194, Training Accuracy: 98.27%, Validation Accuracy: 90.85%\n",
      "Epoch 19, Loss: 0.040417852805628596, Training Accuracy: 98.56%, Validation Accuracy: 90.78%\n",
      "Epoch 20, Loss: 0.03527261967432763, Training Accuracy: 98.71%, Validation Accuracy: 91.24%\n",
      "Epoch 21, Loss: 0.02847105772110129, Training Accuracy: 99.00%, Validation Accuracy: 91.26%\n",
      "Epoch 22, Loss: 0.02706374950217238, Training Accuracy: 99.04%, Validation Accuracy: 91.20%\n",
      "Epoch 23, Loss: 0.025388434197885605, Training Accuracy: 99.11%, Validation Accuracy: 90.60%\n",
      "Epoch 24, Loss: 0.02422597722353821, Training Accuracy: 99.18%, Validation Accuracy: 90.89%\n",
      "Epoch 25, Loss: 0.02016541672545039, Training Accuracy: 99.32%, Validation Accuracy: 91.16%\n",
      "Epoch 26, Loss: 0.02661021932037159, Training Accuracy: 99.06%, Validation Accuracy: 90.68%\n",
      "Epoch 27, Loss: 0.02323685637729771, Training Accuracy: 99.16%, Validation Accuracy: 91.06%\n",
      "Epoch 28, Loss: 0.019210799079273904, Training Accuracy: 99.34%, Validation Accuracy: 90.78%\n",
      "Epoch 29, Loss: 0.02112739305472399, Training Accuracy: 99.27%, Validation Accuracy: 90.94%\n",
      "Epoch 30, Loss: 0.02467361968618643, Training Accuracy: 99.15%, Validation Accuracy: 91.01%\n",
      "Epoch 31, Loss: 0.015171803517329743, Training Accuracy: 99.52%, Validation Accuracy: 91.13%\n",
      "Epoch 32, Loss: 0.008488185025499055, Training Accuracy: 99.74%, Validation Accuracy: 91.10%\n",
      "Epoch 33, Loss: 0.006246698043213352, Training Accuracy: 99.80%, Validation Accuracy: 91.21%\n",
      "Epoch 34, Loss: 0.0018250207150928418, Training Accuracy: 99.98%, Validation Accuracy: 91.73%\n",
      "Epoch 35, Loss: 0.000988518553268485, Training Accuracy: 99.99%, Validation Accuracy: 91.78%\n",
      "Epoch 36, Loss: 0.0005587327787153299, Training Accuracy: 100.00%, Validation Accuracy: 91.84%\n",
      "Epoch 37, Loss: 0.0003761013842888133, Training Accuracy: 100.00%, Validation Accuracy: 91.88%\n",
      "Epoch 38, Loss: 0.00030098008932278236, Training Accuracy: 100.00%, Validation Accuracy: 91.85%\n",
      "Epoch 39, Loss: 0.00026015719379176216, Training Accuracy: 100.00%, Validation Accuracy: 91.83%\n",
      "Epoch 40, Loss: 0.00023525247470785948, Training Accuracy: 100.00%, Validation Accuracy: 91.88%\n",
      "Epoch 41, Loss: 0.00021462429483317465, Training Accuracy: 100.00%, Validation Accuracy: 91.88%\n",
      "Epoch 42, Loss: 0.0001977920693018632, Training Accuracy: 100.00%, Validation Accuracy: 91.89%\n",
      "Epoch 43, Loss: 0.00018435313883476283, Training Accuracy: 100.00%, Validation Accuracy: 91.92%\n",
      "Epoch 44, Loss: 0.0001725265220211289, Training Accuracy: 100.00%, Validation Accuracy: 91.90%\n",
      "Epoch 45, Loss: 0.00016182441069952346, Training Accuracy: 100.00%, Validation Accuracy: 91.91%\n",
      "Epoch 46, Loss: 0.00015209318325601798, Training Accuracy: 100.00%, Validation Accuracy: 91.84%\n",
      "Epoch 47, Loss: 0.00014416629413163188, Training Accuracy: 100.00%, Validation Accuracy: 91.87%\n",
      "Epoch 48, Loss: 0.000137091515043619, Training Accuracy: 100.00%, Validation Accuracy: 91.88%\n",
      "Epoch 49, Loss: 0.00013139642129827962, Training Accuracy: 100.00%, Validation Accuracy: 91.90%\n",
      "Epoch 50, Loss: 0.00012496022955375943, Training Accuracy: 100.00%, Validation Accuracy: 91.89%\n"
     ]
    },
    {
     "data": {
      "image/png": "[encoded data removed]",
      "text/plain": [
       "<Figure size 1000x600 with 1 Axes>"
      ]
     },
     "metadata": {},
     "output_type": "display_data"
    }
   ],
   "source": [
    "# Instantiate the model\n",
    "model = BaselineCNN()\n",
    "model.apply(init_weights)\n",
    "\n",
    "# Set up optimizer and loss function\n",
    "optimizer = optim.SGD(model.parameters(), lr=0.01, momentum=0.9)\n",
    "criterion = nn.CrossEntropyLoss()\n",
    "\n",
    "# Initialize lists to store accuracies\n",
    "training_accuracies = []\n",
    "validation_accuracies = []\n",
    "\n",
    "# Training and Evaluation Loop\n",
    "for epoch in range(50):  # 50 epochs\n",
    "    model.train()\n",
    "    running_loss = 0.0\n",
    "    train_correct = 0\n",
    "    train_total = 0\n",
    "    for images, labels in trainloader:\n",
    "        optimizer.zero_grad()\n",
    "        outputs = model(images)\n",
    "        loss = criterion(outputs, labels)\n",
    "        loss.backward()\n",
    "        optimizer.step()\n",
    "\n",
    "        running_loss += loss.item()\n",
    "        _, predicted = torch.max(outputs.data, 1)\n",
    "        train_total += labels.size(0)\n",
    "        train_correct += (predicted == labels).sum().item()\n",
    "\n",
    "    train_accuracy = 100 * train_correct / train_total\n",
    "    training_accuracies.append(train_accuracy)\n",
    "\n",
    "    # Validation\n",
    "    model.eval()\n",
    "    valid_correct = 0\n",
    "    valid_total = 0\n",
    "    with torch.no_grad():\n",
    "        for images, labels in testloader:\n",
    "            outputs = model(images)\n",
    "            _, predicted = torch.max(outputs.data, 1)\n",
    "            valid_total += labels.size(0)\n",
    "            valid_correct += (predicted == labels).sum().item()\n",
    "\n",
    "    valid_accuracy = 100 * valid_correct / valid_total\n",
    "    validation_accuracies.append(valid_accuracy)\n",
    "\n",
    "    print(f\"Epoch {epoch + 1}, Loss: {running_loss / len(trainloader)}, \"\n",
    "          f\"Training Accuracy: {train_accuracy:.2f}%, \"\n",
    "          f\"Validation Accuracy: {valid_accuracy:.2f}%\")\n",
    "\n",
    "# Plotting\n",
    "plt.figure(figsize=(10, 6))\n",
    "plt.plot(range(1, 51), training_accuracies, label='Training Accuracy')\n",
    "plt.plot(range(1, 51), validation_accuracies, label='Validation Accuracy')\n",
    "plt.xlabel('Epochs')\n",
    "plt.ylabel('Accuracy')\n",
    "plt.title('Training and Validation Accuracy over Epochs')\n",
    "plt.legend()\n",
    "plt.grid(True)\n",
    "plt.show()"
   ]
  },
  {
   "cell_type": "markdown",
   "metadata": {},
   "source": [
    "# Modified CNN by including Dropout"
   ]
  },
  {
   "cell_type": "code",
   "execution_count": 22,
   "metadata": {},
   "outputs": [],
   "source": [
    "class ModifiedCNN(nn.Module):\n",
    "    def __init__(self):\n",
    "        super(ModifiedCNN, self).__init__()\n",
    "        self.conv1 = nn.Conv2d(in_channels=1, out_channels=32, kernel_size=3)  # (a)\n",
    "        self.pool = nn.MaxPool2d(kernel_size=2, stride=2)  # (b)\n",
    "        self.flatten = nn.Flatten()  # (c)\n",
    "        self.dropout = nn.Dropout(0.5)\n",
    "        self.fc1 = nn.Linear(32 * 13 * 13, 100)  # (d)\n",
    "        self.relu = nn.ReLU()\n",
    "        self.fc2 = nn.Linear(100, 10)  # (e)\n",
    "\n",
    "    def forward(self, x):\n",
    "        x = self.pool(self.relu(self.conv1(x)))\n",
    "        x = self.flatten(x)\n",
    "        x = self.dropout(x)\n",
    "        x = self.relu(self.fc1(x))\n",
    "        x = self.fc2(x)\n",
    "        return x"
   ]
  },
  {
   "cell_type": "code",
   "execution_count": 23,
   "metadata": {},
   "outputs": [
    {
     "name": "stdout",
     "output_type": "stream",
     "text": [
      "Epoch 1, Training Accuracy: 83.32%, Validation Accuracy: 87.80%\n",
      "Epoch 2, Training Accuracy: 87.81%, Validation Accuracy: 88.62%\n",
      "Epoch 3, Training Accuracy: 88.94%, Validation Accuracy: 89.30%\n",
      "Epoch 4, Training Accuracy: 89.95%, Validation Accuracy: 89.38%\n",
      "Epoch 5, Training Accuracy: 90.42%, Validation Accuracy: 90.26%\n",
      "Epoch 6, Training Accuracy: 90.84%, Validation Accuracy: 90.44%\n",
      "Epoch 7, Training Accuracy: 91.34%, Validation Accuracy: 90.85%\n",
      "Epoch 8, Training Accuracy: 91.86%, Validation Accuracy: 90.50%\n",
      "Epoch 9, Training Accuracy: 92.14%, Validation Accuracy: 90.76%\n",
      "Epoch 10, Training Accuracy: 92.35%, Validation Accuracy: 91.12%\n",
      "Epoch 11, Training Accuracy: 92.64%, Validation Accuracy: 90.94%\n",
      "Epoch 12, Training Accuracy: 92.92%, Validation Accuracy: 90.92%\n",
      "Epoch 13, Training Accuracy: 93.00%, Validation Accuracy: 91.48%\n",
      "Epoch 14, Training Accuracy: 93.20%, Validation Accuracy: 91.57%\n",
      "Epoch 15, Training Accuracy: 93.60%, Validation Accuracy: 91.55%\n",
      "Epoch 16, Training Accuracy: 93.47%, Validation Accuracy: 91.12%\n",
      "Epoch 17, Training Accuracy: 93.65%, Validation Accuracy: 91.04%\n",
      "Epoch 18, Training Accuracy: 93.94%, Validation Accuracy: 91.03%\n",
      "Epoch 19, Training Accuracy: 94.07%, Validation Accuracy: 91.46%\n",
      "Epoch 20, Training Accuracy: 94.21%, Validation Accuracy: 91.37%\n",
      "Epoch 21, Training Accuracy: 94.42%, Validation Accuracy: 91.43%\n",
      "Epoch 22, Training Accuracy: 94.42%, Validation Accuracy: 91.23%\n",
      "Epoch 23, Training Accuracy: 94.57%, Validation Accuracy: 91.19%\n",
      "Epoch 24, Training Accuracy: 94.76%, Validation Accuracy: 91.33%\n",
      "Epoch 25, Training Accuracy: 94.75%, Validation Accuracy: 91.59%\n",
      "Epoch 26, Training Accuracy: 94.89%, Validation Accuracy: 91.38%\n",
      "Epoch 27, Training Accuracy: 95.02%, Validation Accuracy: 91.17%\n",
      "Epoch 28, Training Accuracy: 95.02%, Validation Accuracy: 91.32%\n",
      "Epoch 29, Training Accuracy: 95.29%, Validation Accuracy: 91.48%\n",
      "Epoch 30, Training Accuracy: 95.18%, Validation Accuracy: 91.26%\n",
      "Epoch 31, Training Accuracy: 95.24%, Validation Accuracy: 91.46%\n",
      "Epoch 32, Training Accuracy: 95.38%, Validation Accuracy: 90.84%\n",
      "Epoch 33, Training Accuracy: 95.46%, Validation Accuracy: 91.28%\n",
      "Epoch 34, Training Accuracy: 95.51%, Validation Accuracy: 91.07%\n",
      "Epoch 35, Training Accuracy: 95.52%, Validation Accuracy: 91.68%\n",
      "Epoch 36, Training Accuracy: 95.79%, Validation Accuracy: 91.30%\n",
      "Epoch 37, Training Accuracy: 95.67%, Validation Accuracy: 91.67%\n",
      "Epoch 38, Training Accuracy: 95.91%, Validation Accuracy: 91.38%\n",
      "Epoch 39, Training Accuracy: 95.89%, Validation Accuracy: 91.20%\n",
      "Epoch 40, Training Accuracy: 95.94%, Validation Accuracy: 91.23%\n",
      "Epoch 41, Training Accuracy: 95.96%, Validation Accuracy: 91.43%\n",
      "Epoch 42, Training Accuracy: 96.01%, Validation Accuracy: 91.56%\n",
      "Epoch 43, Training Accuracy: 96.00%, Validation Accuracy: 91.56%\n",
      "Epoch 44, Training Accuracy: 96.12%, Validation Accuracy: 91.29%\n",
      "Epoch 45, Training Accuracy: 96.15%, Validation Accuracy: 91.23%\n",
      "Epoch 46, Training Accuracy: 96.08%, Validation Accuracy: 91.29%\n",
      "Epoch 47, Training Accuracy: 96.25%, Validation Accuracy: 91.30%\n",
      "Epoch 48, Training Accuracy: 96.31%, Validation Accuracy: 91.00%\n",
      "Epoch 49, Training Accuracy: 96.33%, Validation Accuracy: 91.48%\n",
      "Epoch 50, Training Accuracy: 96.48%, Validation Accuracy: 91.31%\n"
     ]
    },
    {
     "data": {
      "image/png": "[encoded data removed]",
      "text/plain": [
       "<Figure size 1000x600 with 1 Axes>"
      ]
     },
     "metadata": {},
     "output_type": "display_data"
    }
   ],
   "source": [
    "import matplotlib.pyplot as plt\n",
    "\n",
    "def train_and_evaluate(model, trainloader, testloader, optimizer, criterion, num_epochs):\n",
    "    training_accuracies = []\n",
    "    validation_accuracies = []\n",
    "\n",
    "    for epoch in range(num_epochs):\n",
    "        model.train()\n",
    "        train_correct = 0\n",
    "        train_total = 0\n",
    "        for images, labels in trainloader:\n",
    "            optimizer.zero_grad()\n",
    "            outputs = model(images)\n",
    "            loss = criterion(outputs, labels)\n",
    "            loss.backward()\n",
    "            optimizer.step()\n",
    "\n",
    "            _, predicted = torch.max(outputs.data, 1)\n",
    "            train_total += labels.size(0)\n",
    "            train_correct += (predicted == labels).sum().item()\n",
    "\n",
    "        train_accuracy = 100 * train_correct / train_total\n",
    "        training_accuracies.append(train_accuracy)\n",
    "\n",
    "        model.eval()\n",
    "        valid_correct = 0\n",
    "        valid_total = 0\n",
    "        with torch.no_grad():\n",
    "            for images, labels in testloader:\n",
    "                outputs = model(images)\n",
    "                _, predicted = torch.max(outputs.data, 1)\n",
    "                valid_total += labels.size(0)\n",
    "                valid_correct += (predicted == labels).sum().item()\n",
    "\n",
    "        valid_accuracy = 100 * valid_correct / valid_total\n",
    "        validation_accuracies.append(valid_accuracy)\n",
    "\n",
    "        print(f\"Epoch {epoch + 1}, Training Accuracy: {train_accuracy:.2f}%, Validation Accuracy: {valid_accuracy:.2f}%\")\n",
    "\n",
    "    return training_accuracies, validation_accuracies\n",
    "\n",
    "# Instantiate and train the modified model with dropout\n",
    "model_with_dropout = ModifiedCNN()\n",
    "model_with_dropout.apply(init_weights)\n",
    "\n",
    "optimizer = optim.SGD(model_with_dropout.parameters(), lr=0.01, momentum=0.9)\n",
    "criterion = nn.CrossEntropyLoss()\n",
    "train_acc_dropout, test_acc_dropout = train_and_evaluate(model_with_dropout, trainloader, testloader, optimizer, criterion, num_epochs=50)\n",
    "\n",
    "# Plotting\n",
    "plt.figure(figsize=(10, 6))\n",
    "plt.plot(range(1, 51), train_acc_dropout, label='Training Accuracy')\n",
    "plt.plot(range(1, 51), test_acc_dropout, label='Validation Accuracy')\n",
    "plt.xlabel('Epochs')\n",
    "plt.ylabel('Accuracy')\n",
    "plt.title('Training and Validation Accuracy with Dropout over Epochs')\n",
    "plt.legend()\n",
    "plt.grid(True)\n",
    "plt.show()"
   ]
  },
  {
   "cell_type": "markdown",
   "metadata": {},
   "source": [
    "# Enchanced CNN by adding additional Convolutional Layer and MaxPooling Layer including the dropout layer"
   ]
  },
  {
   "cell_type": "code",
   "execution_count": 24,
   "metadata": {},
   "outputs": [],
   "source": [
    "class EnhancedCNN(nn.Module):\n",
    "    def __init__(self):\n",
    "        super(EnhancedCNN, self).__init__()\n",
    "        self.conv1 = nn.Conv2d(1, 32, 3)  # Original Convolutional layer\n",
    "        self.pool1 = nn.MaxPool2d(2, 2)   # Original Maxpooling layer\n",
    "        self.conv2 = nn.Conv2d(32, 64, 3) # Additional Convolutional layer with 64 filters\n",
    "        self.pool2 = nn.MaxPool2d(2, 2)   # Additional Maxpooling layer\n",
    "        self.flatten = nn.Flatten()       # Flatten layer\n",
    "        self.dropout = nn.Dropout(0.5)    # Dropout layer\n",
    "        # Adjusted dense layer considering the output of the last maxpooling layer\n",
    "        self.fc1 = nn.Linear(64 * 5 * 5, 100) # Adjusted Dense layer\n",
    "        self.relu = nn.ReLU()                  # ReLU activation\n",
    "        self.fc2 = nn.Linear(100, 10)          # Output layer\n",
    "\n",
    "    def forward(self, x):\n",
    "        x = self.pool1(self.relu(self.conv1(x)))\n",
    "        x = self.pool2(self.relu(self.conv2(x)))\n",
    "        x = self.flatten(x)\n",
    "        x = self.dropout(x)  # Apply dropout here\n",
    "        x = self.relu(self.fc1(x))\n",
    "        x = self.fc2(x)\n",
    "        return x"
   ]
  },
  {
   "cell_type": "code",
   "execution_count": 25,
   "metadata": {},
   "outputs": [
    {
     "name": "stdout",
     "output_type": "stream",
     "text": [
      "Epoch 1, Training Accuracy: 79.80%, Validation Accuracy: 84.80%\n",
      "Epoch 2, Training Accuracy: 86.22%, Validation Accuracy: 87.88%\n",
      "Epoch 3, Training Accuracy: 87.63%, Validation Accuracy: 88.95%\n",
      "Epoch 4, Training Accuracy: 88.27%, Validation Accuracy: 89.08%\n",
      "Epoch 5, Training Accuracy: 89.01%, Validation Accuracy: 90.08%\n",
      "Epoch 6, Training Accuracy: 89.39%, Validation Accuracy: 89.93%\n",
      "Epoch 7, Training Accuracy: 89.70%, Validation Accuracy: 90.41%\n",
      "Epoch 8, Training Accuracy: 90.32%, Validation Accuracy: 90.17%\n",
      "Epoch 9, Training Accuracy: 90.63%, Validation Accuracy: 90.33%\n",
      "Epoch 10, Training Accuracy: 90.62%, Validation Accuracy: 90.30%\n",
      "Enhanced CNN with Additional Layers and Dropout - Test Accuracy: 90.30%\n"
     ]
    }
   ],
   "source": [
    "# Assuming the EnhancedCNN class and init_weights function are defined as per your previous message\n",
    "\n",
    "# Instantiate the enhanced model\n",
    "enhanced_model = EnhancedCNN()\n",
    "enhanced_model.apply(init_weights)\n",
    "\n",
    "# Set up the optimizer with SGD\n",
    "optimizer = optim.SGD(enhanced_model.parameters(), lr=0.01, momentum=0.9)\n",
    "\n",
    "# Define the loss function\n",
    "criterion = nn.CrossEntropyLoss()\n",
    "\n",
    "# Train and evaluate the model\n",
    "train_acc_enhanced, test_acc_enhanced = train_and_evaluate(enhanced_model, trainloader, testloader, optimizer, criterion, num_epochs=10)\n",
    "\n",
    "# Print the test accuracy\n",
    "print(f\"Enhanced CNN with Additional Layers and Dropout - Test Accuracy: {test_acc_enhanced[-1]:.2f}%\")"
   ]
  },
  {
   "cell_type": "code",
   "execution_count": 33,
   "metadata": {},
   "outputs": [
    {
     "name": "stdout",
     "output_type": "stream",
     "text": [
      "Epoch 1, Training Accuracy: 72.79%, Validation Accuracy: 82.60%\n",
      "Epoch 2, Training Accuracy: 83.48%, Validation Accuracy: 85.99%\n",
      "Epoch 3, Training Accuracy: 85.23%, Validation Accuracy: 86.61%\n",
      "Epoch 4, Training Accuracy: 86.43%, Validation Accuracy: 87.48%\n",
      "Epoch 5, Training Accuracy: 87.13%, Validation Accuracy: 88.26%\n",
      "Epoch 6, Training Accuracy: 87.72%, Validation Accuracy: 88.55%\n",
      "Epoch 7, Training Accuracy: 88.20%, Validation Accuracy: 89.04%\n",
      "Epoch 8, Training Accuracy: 88.78%, Validation Accuracy: 89.26%\n",
      "Epoch 9, Training Accuracy: 89.08%, Validation Accuracy: 89.37%\n",
      "Epoch 10, Training Accuracy: 89.35%, Validation Accuracy: 89.38%\n",
      "Learning Rate 0.001 - Test Accuracy: 89.38%\n"
     ]
    }
   ],
   "source": [
    "class EnhancedCNN2(nn.Module):\n",
    "    def __init__(self):\n",
    "        super(EnhancedCNN2, self).__init__()\n",
    "        # Convolutional Layer 1\n",
    "        self.conv1 = nn.Conv2d(in_channels=1, out_channels=32, kernel_size=3, padding=1)\n",
    "        # Max-Pooling Layer 1\n",
    "        self.pool1 = nn.MaxPool2d(kernel_size=2, stride=2)\n",
    "        \n",
    "        # Convolutional Layer 2\n",
    "        self.conv2 = nn.Conv2d(in_channels=32, out_channels=64, kernel_size=3, padding=1)\n",
    "        # Max-Pooling Layer 2\n",
    "        self.pool2 = nn.MaxPool2d(kernel_size=2, stride=2)\n",
    "        \n",
    "        # Flatten Layer\n",
    "        self.flatten = nn.Flatten()\n",
    "        # Dropout Layer\n",
    "        self.dropout = nn.Dropout(0.5)\n",
    "        \n",
    "        # Dense Layer\n",
    "        self.fc1 = nn.Linear(64 * 7 * 7, 100)  # Adjust this size according to your input size\n",
    "        self.relu = nn.ReLU()\n",
    "        self.fc2 = nn.Linear(100, 10)  # Number of classes\n",
    "\n",
    "    def forward(self, x):\n",
    "        x = self.pool1(self.relu(self.conv1(x)))\n",
    "        x = self.pool2(self.relu(self.conv2(x)))\n",
    "        x = self.flatten(x)\n",
    "        x = self.dropout(x)\n",
    "        x = self.relu(self.fc1(x))\n",
    "        x = self.fc2(x)\n",
    "        return x\n",
    "    \n",
    "# Instantiate the enhanced model for learning rate 0.001\n",
    "model_lr001 = EnhancedCNN2()\n",
    "model_lr001.apply(init_weights)\n",
    "\n",
    "# Set up the optimizer with a learning rate of 0.001\n",
    "optimizer_lr001 = optim.SGD(model_lr001.parameters(), lr=0.001, momentum=0.9)\n",
    "\n",
    "# Train and evaluate the model\n",
    "criterion = nn.CrossEntropyLoss()\n",
    "train_acc_lr001, test_acc_lr001 = train_and_evaluate(model_lr001, trainloader, testloader, optimizer_lr001, criterion, num_epochs=10)\n",
    "\n",
    "# Print the test accuracy\n",
    "print(f\"Learning Rate 0.001 - Test Accuracy: {test_acc_lr001[-1]:.2f}%\")\n"
   ]
  },
  {
   "cell_type": "code",
   "execution_count": 35,
   "metadata": {},
   "outputs": [
    {
     "name": "stdout",
     "output_type": "stream",
     "text": [
      "Epoch 1, Training Accuracy: 37.18%, Validation Accuracy: 10.00%\n",
      "Epoch 2, Training Accuracy: 9.94%, Validation Accuracy: 10.00%\n",
      "Epoch 3, Training Accuracy: 10.02%, Validation Accuracy: 10.00%\n",
      "Epoch 4, Training Accuracy: 9.98%, Validation Accuracy: 10.00%\n",
      "Epoch 5, Training Accuracy: 9.70%, Validation Accuracy: 10.00%\n",
      "Epoch 6, Training Accuracy: 9.82%, Validation Accuracy: 10.00%\n",
      "Epoch 7, Training Accuracy: 9.98%, Validation Accuracy: 10.00%\n",
      "Epoch 8, Training Accuracy: 10.15%, Validation Accuracy: 10.00%\n",
      "Epoch 9, Training Accuracy: 9.80%, Validation Accuracy: 10.00%\n",
      "Epoch 10, Training Accuracy: 10.09%, Validation Accuracy: 10.00%\n",
      "Learning Rate 0.1 - Test Accuracy: 10.00%\n"
     ]
    }
   ],
   "source": [
    "# Instantiate the enhanced model for learning rate 0.1\n",
    "model_lr01 = EnhancedCNN2()\n",
    "model_lr01.apply(init_weights)\n",
    "\n",
    "# Set up the optimizer with a learning rate of 0.1\n",
    "optimizer_lr01 = optim.SGD(model_lr01.parameters(), lr=0.1, momentum=0.9)\n",
    "\n",
    "# Train and evaluate the model\n",
    "criterion = nn.CrossEntropyLoss()\n",
    "train_acc_lr01, test_acc_lr01 = train_and_evaluate(model_lr01, trainloader, testloader, optimizer_lr01, criterion, num_epochs=10)\n",
    "\n",
    "# Print the test accuracy\n",
    "print(f\"Learning Rate 0.1 - Test Accuracy: {test_acc_lr01[-1]:.2f}%\")"
   ]
  },
  {
   "cell_type": "markdown",
   "metadata": {},
   "source": [
    "# ANALYSIS\n",
    "\n",
    "* (a) Explain how the trends in validation and train accuracy change after using the dropout layer\n",
    "in the experiments.\n",
    "\n",
    "    * Effectiveness of Dropout: The dropout layer helps in regularizing the network, leading to better generalization. This is evident from the more consistent performance on both training and validation sets.\n",
    "Prevention of Overfitting: Without dropout, the model tends to overfit, indicated by the high training accuracy and the divergence from the validation accuracy. Dropout mitigates this by ensuring that the model does not rely too heavily on any specific set of neurons."
   ]
  },
  {
   "cell_type": "code",
   "execution_count": null,
   "metadata": {},
   "outputs": [],
   "source": [
    " "
   ]
  },
  {
   "cell_type": "code",
   "execution_count": null,
   "metadata": {},
   "outputs": [],
   "source": []
  }
 ],
 "metadata": {
  "kernelspec": {
   "display_name": "Python 3",
   "language": "python",
   "name": "python3"
  },
  "language_info": {
   "codemirror_mode": {
    "name": "ipython",
    "version": 3
   },
   "file_extension": ".py",
   "mimetype": "text/x-python",
   "name": "python",
   "nbconvert_exporter": "python",
   "pygments_lexer": "ipython3",
   "version": "3.9.17"
  }
 },
 "nbformat": 4,
 "nbformat_minor": 2
}
