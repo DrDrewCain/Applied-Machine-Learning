{
 "cells": [
  {
   "cell_type": "code",
   "execution_count": 9,
   "metadata": {},
   "outputs": [],
   "source": [
    "import torch\n",
    "import torch.nn as nn\n",
    "import torch.optim as optim\n",
    "from torchvision import datasets, transforms\n",
    "from torch.utils.data import DataLoader"
   ]
  },
  {
   "cell_type": "code",
   "execution_count": 3,
   "metadata": {},
   "outputs": [
    {
     "name": "stdout",
     "output_type": "stream",
     "text": [
      "Downloading http://fashion-mnist.s3-website.eu-central-1.amazonaws.com/train-images-idx3-ubyte.gz\n",
      "Downloading http://fashion-mnist.s3-website.eu-central-1.amazonaws.com/train-images-idx3-ubyte.gz to  ~/. pytorch / F_MNIST_data / /FashionMNIST/raw/train-images-idx3-ubyte.gz\n"
     ]
    },
    {
     "name": "stderr",
     "output_type": "stream",
     "text": [
      "100%|██████████| 26421880/26421880 [00:03<00:00, 8641520.30it/s]\n"
     ]
    },
    {
     "name": "stdout",
     "output_type": "stream",
     "text": [
      "Extracting  ~/. pytorch / F_MNIST_data / /FashionMNIST/raw/train-images-idx3-ubyte.gz to  ~/. pytorch / F_MNIST_data / /FashionMNIST/raw\n",
      "\n",
      "Downloading http://fashion-mnist.s3-website.eu-central-1.amazonaws.com/train-labels-idx1-ubyte.gz\n",
      "Downloading http://fashion-mnist.s3-website.eu-central-1.amazonaws.com/train-labels-idx1-ubyte.gz to  ~/. pytorch / F_MNIST_data / /FashionMNIST/raw/train-labels-idx1-ubyte.gz\n"
     ]
    },
    {
     "name": "stderr",
     "output_type": "stream",
     "text": [
      "100%|██████████| 29515/29515 [00:00<00:00, 2996439.04it/s]\n"
     ]
    },
    {
     "name": "stdout",
     "output_type": "stream",
     "text": [
      "Extracting  ~/. pytorch / F_MNIST_data / /FashionMNIST/raw/train-labels-idx1-ubyte.gz to  ~/. pytorch / F_MNIST_data / /FashionMNIST/raw\n",
      "\n",
      "Downloading http://fashion-mnist.s3-website.eu-central-1.amazonaws.com/t10k-images-idx3-ubyte.gz\n",
      "Downloading http://fashion-mnist.s3-website.eu-central-1.amazonaws.com/t10k-images-idx3-ubyte.gz to  ~/. pytorch / F_MNIST_data / /FashionMNIST/raw/t10k-images-idx3-ubyte.gz\n"
     ]
    },
    {
     "name": "stderr",
     "output_type": "stream",
     "text": [
      "100%|██████████| 4422102/4422102 [00:00<00:00, 6710191.42it/s]\n"
     ]
    },
    {
     "name": "stdout",
     "output_type": "stream",
     "text": [
      "Extracting  ~/. pytorch / F_MNIST_data / /FashionMNIST/raw/t10k-images-idx3-ubyte.gz to  ~/. pytorch / F_MNIST_data / /FashionMNIST/raw\n",
      "\n",
      "Downloading http://fashion-mnist.s3-website.eu-central-1.amazonaws.com/t10k-labels-idx1-ubyte.gz\n",
      "Downloading http://fashion-mnist.s3-website.eu-central-1.amazonaws.com/t10k-labels-idx1-ubyte.gz to  ~/. pytorch / F_MNIST_data / /FashionMNIST/raw/t10k-labels-idx1-ubyte.gz\n"
     ]
    },
    {
     "name": "stderr",
     "output_type": "stream",
     "text": [
      "100%|██████████| 5148/5148 [00:00<00:00, 15601356.21it/s]"
     ]
    },
    {
     "name": "stdout",
     "output_type": "stream",
     "text": [
      "Extracting  ~/. pytorch / F_MNIST_data / /FashionMNIST/raw/t10k-labels-idx1-ubyte.gz to  ~/. pytorch / F_MNIST_data / /FashionMNIST/raw\n",
      "\n"
     ]
    },
    {
     "name": "stderr",
     "output_type": "stream",
     "text": [
      "\n"
     ]
    }
   ],
   "source": [
    "transform = transforms . Compose ([ transforms . ToTensor () ,\n",
    "transforms . Normalize ((0.5 , ) ,\n",
    "(0.5 ,) ) ])\n",
    "trainset = datasets . FashionMNIST ( ' ~/. pytorch / F_MNIST_data / ' ,\n",
    "download = True , train = True , transform = transform )\n",
    "trainloader = torch . utils . data . DataLoader ( trainset , batch_size\n",
    "=32 , shuffle = True )\n",
    "testset = datasets . FashionMNIST ( ' ~/. pytorch / F_MNIST_data / ' ,\n",
    "download = True , train = False , transform = transform )\n",
    "testloader = torch . utils . data . DataLoader ( testset , batch_size =32 ,\n",
    "shuffle = False )"
   ]
  },
  {
   "cell_type": "code",
   "execution_count": null,
   "metadata": {},
   "outputs": [],
   "source": []
  },
  {
   "cell_type": "code",
   "execution_count": 4,
   "metadata": {},
   "outputs": [
    {
     "name": "stdout",
     "output_type": "stream",
     "text": [
      "torch.Size([32, 1, 28, 28]) torch.Size([32])\n"
     ]
    }
   ],
   "source": [
    "batch = next ( iter ( trainloader ) )\n",
    "print ( batch [0]. shape , batch [1]. shape )"
   ]
  },
  {
   "cell_type": "code",
   "execution_count": 7,
   "metadata": {},
   "outputs": [
    {
     "data": {
      "image/png": "[encoded data removed]",
      "text/plain": [
       "<Figure size 640x480 with 10 Axes>"
      ]
     },
     "metadata": {},
     "output_type": "display_data"
    }
   ],
   "source": [
    "import matplotlib . pyplot as plt\n",
    "f , ax = plt . subplots (2 , 5)\n",
    "plt . subplots_adjust ( bottom =0.3 , top =0.7 , hspace =0)\n",
    "for i in range (2) :\n",
    "    for j in range (5) :\n",
    "        image , label = next ( iter ( trainloader ) )\n",
    "        ax [ i ][ j ]. set_axis_off ()\n",
    "        ax [ i ][ j ]. imshow ( image [0 ,0 ,:] , cmap = 'gray')"
   ]
  },
  {
   "cell_type": "markdown",
   "metadata": {},
   "source": [
    "# Flattening is done in the def train_model using images.view(images.size(0), -1)"
   ]
  },
  {
   "cell_type": "code",
   "execution_count": 52,
   "metadata": {},
   "outputs": [],
   "source": [
    "# Define the model building function\n",
    "def build_model(input_size, hidden_layers, output_size, activation_fn):\n",
    "    layers = [nn.Linear(input_size, hidden_layers[0]), activation_fn()]\n",
    "    for i in range(1, len(hidden_layers)):\n",
    "        layers.append(nn.Linear(hidden_layers[i-1], hidden_layers[i]))\n",
    "        layers.append(activation_fn())\n",
    "        layers.append(nn.Dropout(0.2))\n",
    "    layers.append(nn.Linear(hidden_layers[-1], output_size))\n",
    "    return nn.Sequential(*layers)\n",
    "\n",
    "def train_model(model, trainloader, criterion, optimizer, num_epochs):\n",
    "    model.train()\n",
    "    for epoch in range(num_epochs):\n",
    "        total = 0\n",
    "        correct = 0\n",
    "        for images, labels in trainloader:\n",
    "            images = images.view(images.size(0), -1) # This flattens the image\n",
    "            optimizer.zero_grad()\n",
    "            outputs = model(images)\n",
    "            loss = criterion(outputs, labels)\n",
    "            loss.backward()\n",
    "            optimizer.step()\n",
    "\n",
    "            # Calculate training accuracy\n",
    "            _, predicted = torch.max(outputs.data, 1)\n",
    "            total += labels.size(0)\n",
    "            correct += (predicted == labels).sum().item()\n",
    "    training_accuracy = correct / total\n",
    "    return training_accuracy\n",
    "\n",
    "# Evaluation function\n",
    "def evaluate_model(model, testloader):\n",
    "    model.eval()\n",
    "    correct = 0\n",
    "    total = 0\n",
    "    with torch.no_grad():\n",
    "        for images, labels in testloader:\n",
    "            images = images.view(images.size(0), -1)\n",
    "            outputs = model(images)\n",
    "            _, predicted = torch.max(outputs.data, 1)\n",
    "            total += labels.size(0)\n",
    "            correct += (predicted == labels).sum().item()\n",
    "    return correct / total\n"
   ]
  },
  {
   "cell_type": "code",
   "execution_count": 53,
   "metadata": {},
   "outputs": [
    {
     "name": "stdout",
     "output_type": "stream",
     "text": [
      "[128]\n",
      "Structure: [32], Activation Function: ReLU, Training Accuracy: 0.90%, Testing Accuracy: 0.87%\n",
      "Structure: [64], Activation Function: ReLU, Training Accuracy: 0.91%, Testing Accuracy: 0.88%\n",
      "Structure: [128], Activation Function: ReLU, Training Accuracy: 0.92%, Testing Accuracy: 0.88%\n",
      "Structure: [32, 16], Activation Function: ReLU, Training Accuracy: 0.87%, Testing Accuracy: 0.86%\n",
      "Structure: [64, 32, 16], Activation Function: ReLU, Training Accuracy: 0.87%, Testing Accuracy: 0.87%\n",
      "Structure: [128], Activation Function: Sigmoid, Training Accuracy: 0.88%, Testing Accuracy: 0.86%\n",
      "Structure: [128], Activation Function: ELU, Training Accuracy: 0.90%, Testing Accuracy: 0.88%\n",
      "Structure: [128], Activation Function: LeakyReLU, Training Accuracy: 0.92%, Testing Accuracy: 0.88%\n"
     ]
    }
   ],
   "source": [
    "# Experiment configurations\n",
    "network_structures = [[32], [64], [128], [32, 16], [64, 32, 16]]\n",
    "input_size = 28*28  # 784 input features\n",
    "output_size = 10    # 10 classes\n",
    "num_epochs = 30     # Reduced for quicker experimentation\n",
    "\n",
    "results = []\n",
    "\n",
    "# Experiment with different network structures\n",
    "for structure in network_structures:\n",
    "    model = build_model(input_size, structure, output_size, nn.ReLU)\n",
    "    criterion = nn.CrossEntropyLoss()\n",
    "    optimizer = optim.SGD(model.parameters(), lr=0.01)\n",
    "    training_accuracy = train_model(model, trainloader, criterion, optimizer, num_epochs)\n",
    "    test_accuracy = evaluate_model(model, testloader)\n",
    "    results.append({\n",
    "        'structure': structure, \n",
    "        'activation_function': 'ReLU', \n",
    "        'training_accuracy': training_accuracy, \n",
    "        'test_accuracy': test_accuracy\n",
    "    })\n",
    "\n",
    "# Find the best performing structure\n",
    "best_structure = max(results, key=lambda x: x['test_accuracy'])['structure']\n",
    "print(best_structure)\n",
    "\n",
    "activation_functions = [nn.Sigmoid, nn.ELU, nn.LeakyReLU]\n",
    "\n",
    "# Experiment with different activation functions on the best performing structure\n",
    "for activation_fn in activation_functions:\n",
    "    model = build_model(input_size, best_structure, output_size, activation_fn)\n",
    "    criterion = nn.CrossEntropyLoss()\n",
    "    optimizer = optim.SGD(model.parameters(), lr=0.01)\n",
    "    training_accuracy = train_model(model, trainloader, criterion, optimizer, num_epochs)\n",
    "    test_accuracy = evaluate_model(model, testloader)\n",
    "    results.append({\n",
    "        'structure': best_structure, \n",
    "        'activation_function': activation_fn.__name__, \n",
    "        'training_accuracy': training_accuracy, \n",
    "        'test_accuracy': test_accuracy\n",
    "    })\n",
    "\n",
    "# Print the results\n",
    "for result in results:\n",
    "    print(f\"Structure: {result['structure']}, \"\n",
    "          f\"Activation Function: {result['activation_function']}, \"\n",
    "          f\"Training Accuracy: {result['training_accuracy']:.2f}%, \"\n",
    "          f\"Testing Accuracy: {result['test_accuracy']:.2f}%\")\n",
    "\n",
    "# Summarize insights here"
   ]
  },
  {
   "cell_type": "code",
   "execution_count": 54,
   "metadata": {},
   "outputs": [],
   "source": [
    "def init_weights(m):\n",
    "    if (type(m) == nn.Linear or type(m) == nn.Conv2d):\n",
    "        torch.nn.init.xavier_uniform_(m.weight)\n",
    "        m.bias.data.fill_(0.01)\n",
    "\n",
    "def accuracy(y_hat, y):\n",
    "    \"\"\"Compute the number of correct predictions\"\"\"\n",
    "    if len(y_hat.shape) > 1 and y_hat.shape[1] > 1:\n",
    "        y_hat = y_hat.argmax(axis=1)\n",
    "    cmp = y_hat.type(y.dtype) == y\n",
    "    return float(cmp.type(y.dtype).sum())"
   ]
  },
  {
   "cell_type": "code",
   "execution_count": 55,
   "metadata": {},
   "outputs": [
    {
     "name": "stdout",
     "output_type": "stream",
     "text": [
      "Conv2d output shape:\t torch.Size([1, 32, 26, 26])\n",
      "MaxPool2d output shape:\t torch.Size([1, 32, 13, 13])\n",
      "Flatten output shape:\t torch.Size([1, 5408])\n",
      "Linear output shape:\t torch.Size([1, 100])\n",
      "ReLU output shape:\t torch.Size([1, 100])\n",
      "Linear output shape:\t torch.Size([1, 10])\n",
      "Number of trainable parameters: 542230\n"
     ]
    }
   ],
   "source": [
    "import torch\n",
    "import torch.nn as nn\n",
    "import torch.optim as optim\n",
    "from torch.utils.data import DataLoader\n",
    "\n",
    "def init_weights(m):\n",
    "    if isinstance(m, (nn.Linear, nn.Conv2d)):\n",
    "        nn.init.xavier_uniform_(m.weight)\n",
    "        m.bias.data.fill_(0.01)\n",
    "\n",
    "# Define the CNN architecture\n",
    "class BaselineCNN(nn.Module):\n",
    "    def __init__(self):\n",
    "        super(BaselineCNN, self).__init__()\n",
    "        self.conv1 = nn.Conv2d(in_channels=1, out_channels=32, kernel_size=3)  # (a)\n",
    "        self.pool = nn.MaxPool2d(kernel_size=2, stride=2)  # (b)\n",
    "        self.flatten = nn.Flatten()  # (c)\n",
    "        self.fc1 = nn.Linear(32 * 13 * 13, 100)  # (d)\n",
    "        self.relu = nn.ReLU()\n",
    "        self.fc2 = nn.Linear(100, 10)  # (e)\n",
    "\n",
    "    def forward(self, x):\n",
    "        x = self.pool(self.relu(self.conv1(x)))  # Convolutional layer and MaxPool\n",
    "        x = self.flatten(x)  # FlattenI just \n",
    "        x = self.relu(self.fc1(x))  # Dense layer with ReLU\n",
    "        x = self.fc2(x)  # Output layer\n",
    "        return x\n",
    "\n",
    "# Instantiate the model\n",
    "model = BaselineCNN()\n",
    "model.apply(init_weights)\n",
    "\n",
    "# Set up optimizer and loss function\n",
    "optimizer = optim.SGD(model.parameters(), lr=0.01, momentum=0.9)  # SGD with specified parameters\n",
    "loss = nn.CrossEntropyLoss()\n",
    "\n",
    "# Print the shape of the output at each layer\n",
    "X = torch.ones((1, 1, 28, 28))\n",
    "for layer in model.children():\n",
    "    X = layer(X)\n",
    "    print(layer.__class__.__name__, 'output shape:\\t', X.shape)\n",
    "    \n",
    "# Count of trainable parameters\n",
    "trainable_params = sum(p.numel() for p in model.parameters() if p.requires_grad)\n",
    "print(\"Number of trainable parameters:\", trainable_params)\n"
   ]
  },
  {
   "cell_type": "code",
   "execution_count": 56,
   "metadata": {},
   "outputs": [],
   "source": [
    "def train_and_evaluate(model, trainloader, testloader, optimizer, loss_fn, num_epochs):\n",
    "    train_accuracy, test_accuracy = [], []\n",
    "    for epoch in range(num_epochs):\n",
    "        model.train()\n",
    "        for images, labels in trainloader:\n",
    "            optimizer.zero_grad()\n",
    "            outputs = model(images)\n",
    "            loss = loss_fn(outputs, labels)\n",
    "            loss.backward()\n",
    "            optimizer.step()\n",
    "\n",
    "        model.eval()\n",
    "        # Calculate training accuracy\n",
    "        train_correct = 0\n",
    "        train_total = 0\n",
    "        with torch.no_grad():\n",
    "            for images, labels in trainloader:\n",
    "                outputs = model(images)\n",
    "                _, predicted = torch.max(outputs.data, 1)\n",
    "                train_total += labels.size(0)\n",
    "                train_correct += (predicted == labels).sum().item()\n",
    "        train_accuracy.append(100 * train_correct / train_total)\n",
    "\n",
    "        # Calculate testing accuracy\n",
    "        test_correct = 0\n",
    "        test_total = 0\n",
    "        with torch.no_grad():\n",
    "            for images, labels in testloader:\n",
    "                outputs = model(images)\n",
    "                _, predicted = torch.max(outputs.data, 1)\n",
    "                test_total += labels.size(0)\n",
    "                test_correct += (predicted == labels).sum().item()\n",
    "        test_accuracy.append(100 * test_correct / test_total)\n",
    "\n",
    "        print(f'Epoch {epoch+1}/{num_epochs}, Train Accuracy: {train_accuracy[-1]:.2f}%, Test Accuracy: {test_accuracy[-1]:.2f}%')\n",
    "\n",
    "    return train_accuracy, test_accuracy\n"
   ]
  },
  {
   "cell_type": "code",
   "execution_count": 59,
   "metadata": {},
   "outputs": [
    {
     "name": "stdout",
     "output_type": "stream",
     "text": [
      "Epoch 1/50, Train Accuracy: 88.49%, Test Accuracy: 87.30%\n",
      "Epoch 2/50, Train Accuracy: 90.65%, Test Accuracy: 89.02%\n",
      "Epoch 3/50, Train Accuracy: 91.18%, Test Accuracy: 89.41%\n",
      "Epoch 4/50, Train Accuracy: 91.38%, Test Accuracy: 89.25%\n",
      "Epoch 5/50, Train Accuracy: 92.82%, Test Accuracy: 90.12%\n",
      "Epoch 6/50, Train Accuracy: 93.22%, Test Accuracy: 90.29%\n",
      "Epoch 7/50, Train Accuracy: 93.54%, Test Accuracy: 90.41%\n",
      "Epoch 8/50, Train Accuracy: 93.52%, Test Accuracy: 90.48%\n",
      "Epoch 9/50, Train Accuracy: 94.64%, Test Accuracy: 90.98%\n",
      "Epoch 10/50, Train Accuracy: 95.01%, Test Accuracy: 90.97%\n",
      "Epoch 11/50, Train Accuracy: 94.80%, Test Accuracy: 90.62%\n",
      "Epoch 12/50, Train Accuracy: 95.54%, Test Accuracy: 91.10%\n",
      "Epoch 13/50, Train Accuracy: 95.91%, Test Accuracy: 91.35%\n",
      "Epoch 14/50, Train Accuracy: 96.03%, Test Accuracy: 91.03%\n",
      "Epoch 15/50, Train Accuracy: 96.28%, Test Accuracy: 91.08%\n",
      "Epoch 16/50, Train Accuracy: 96.36%, Test Accuracy: 91.14%\n",
      "Epoch 17/50, Train Accuracy: 96.51%, Test Accuracy: 91.24%\n",
      "Epoch 18/50, Train Accuracy: 96.45%, Test Accuracy: 91.21%\n",
      "Epoch 19/50, Train Accuracy: 96.46%, Test Accuracy: 91.05%\n",
      "Epoch 20/50, Train Accuracy: 96.58%, Test Accuracy: 91.25%\n",
      "Epoch 21/50, Train Accuracy: 97.00%, Test Accuracy: 91.10%\n",
      "Epoch 22/50, Train Accuracy: 97.28%, Test Accuracy: 91.38%\n",
      "Epoch 23/50, Train Accuracy: 96.89%, Test Accuracy: 90.58%\n",
      "Epoch 24/50, Train Accuracy: 97.50%, Test Accuracy: 91.17%\n",
      "Epoch 25/50, Train Accuracy: 97.56%, Test Accuracy: 91.38%\n",
      "Epoch 26/50, Train Accuracy: 97.42%, Test Accuracy: 91.19%\n",
      "Epoch 27/50, Train Accuracy: 97.78%, Test Accuracy: 90.98%\n",
      "Epoch 28/50, Train Accuracy: 97.39%, Test Accuracy: 91.17%\n",
      "Epoch 29/50, Train Accuracy: 97.88%, Test Accuracy: 90.98%\n",
      "Epoch 30/50, Train Accuracy: 97.79%, Test Accuracy: 91.32%\n",
      "Epoch 31/50, Train Accuracy: 98.06%, Test Accuracy: 91.05%\n",
      "Epoch 32/50, Train Accuracy: 98.00%, Test Accuracy: 91.19%\n",
      "Epoch 33/50, Train Accuracy: 98.07%, Test Accuracy: 91.32%\n",
      "Epoch 34/50, Train Accuracy: 98.19%, Test Accuracy: 91.31%\n",
      "Epoch 35/50, Train Accuracy: 97.87%, Test Accuracy: 90.76%\n",
      "Epoch 36/50, Train Accuracy: 98.20%, Test Accuracy: 90.89%\n",
      "Epoch 37/50, Train Accuracy: 98.23%, Test Accuracy: 91.03%\n",
      "Epoch 38/50, Train Accuracy: 98.47%, Test Accuracy: 91.32%\n",
      "Epoch 39/50, Train Accuracy: 98.30%, Test Accuracy: 91.24%\n",
      "Epoch 40/50, Train Accuracy: 98.62%, Test Accuracy: 91.18%\n",
      "Epoch 41/50, Train Accuracy: 98.61%, Test Accuracy: 91.01%\n",
      "Epoch 42/50, Train Accuracy: 98.53%, Test Accuracy: 91.10%\n",
      "Epoch 43/50, Train Accuracy: 98.61%, Test Accuracy: 91.45%\n",
      "Epoch 44/50, Train Accuracy: 98.89%, Test Accuracy: 91.53%\n",
      "Epoch 45/50, Train Accuracy: 98.92%, Test Accuracy: 91.42%\n",
      "Epoch 46/50, Train Accuracy: 98.26%, Test Accuracy: 90.44%\n",
      "Epoch 47/50, Train Accuracy: 98.88%, Test Accuracy: 91.52%\n",
      "Epoch 48/50, Train Accuracy: 98.67%, Test Accuracy: 91.18%\n",
      "Epoch 49/50, Train Accuracy: 98.64%, Test Accuracy: 91.13%\n",
      "Epoch 50/50, Train Accuracy: 99.03%, Test Accuracy: 91.04%\n"
     ]
    }
   ],
   "source": [
    "class ModifiedCNN(nn.Module):\n",
    "    def __init__(self):\n",
    "        super(ModifiedCNN, self).__init__()\n",
    "        self.conv1 = nn.Conv2d(in_channels=1, out_channels=32, kernel_size=3)  # (a)\n",
    "        self.pool = nn.MaxPool2d(kernel_size=2, stride=2)  # (b)\n",
    "        self.flatten = nn.Flatten()  # (c)\n",
    "        self.dropout = nn.Dropout(0.5)\n",
    "        self.fc1 = nn.Linear(32 * 13 * 13, 100)  # (d)\n",
    "        self.relu = nn.ReLU()\n",
    "        self.fc2 = nn.Linear(100, 10)  # (e)\n",
    "\n",
    "    def forward(self, x):\n",
    "        x = self.pool(self.relu(self.conv1(x)))\n",
    "        x = self.flatten(x)\n",
    "        x = self.dropout(x)\n",
    "        x = self.relu(self.fc1(x))\n",
    "        x = self.fc2(x)\n",
    "        return x\n",
    "\n",
    "# Instantiate and train the modified model\n",
    "model_with_correct_dropout = ModifiedCNN()\n",
    "model_with_correct_dropout.apply(init_weights)\n",
    "\n",
    "optimizer = optim.SGD(model_with_correct_dropout.parameters(), lr=0.01, momentum=0.9)\n",
    "train_acc_dropout, test_acc_dropout = train_and_evaluate(model_with_correct_dropout, trainloader, testloader, optimizer, loss, num_epochs=50)"
   ]
  },
  {
   "cell_type": "code",
   "execution_count": 61,
   "metadata": {},
   "outputs": [
    {
     "data": {
      "image/png": "[encoded data removed]",
      "text/plain": [
       "<Figure size 1000x600 with 1 Axes>"
      ]
     },
     "metadata": {},
     "output_type": "display_data"
    }
   ],
   "source": [
    "# # Train and Evaluate with Dropout\n",
    "# optimizer = optim.SGD(model.parameters(), lr=0.1)\n",
    "# train_acc_dropout, test_acc_dropout = train_and_evaluate(model, trainloader, testloader, optimizer, loss, num_epochs=50)\n",
    "\n",
    "# Plotting Training and Validation Accuracy with Dropout\n",
    "plt.figure(figsize=(10, 6))\n",
    "plt.plot(range(1, 51), train_acc_dropout, label='Training Accuracy w/ Dropout')\n",
    "plt.plot(range(1, 51), test_acc_dropout, label='Validation Accuracy w/ Dropout')\n",
    "plt.xlabel('Epochs')\n",
    "plt.ylabel('Accuracy')\n",
    "plt.title('Training and Validation Accuracy with Dropout over 50 Epochs')\n",
    "plt.legend()\n",
    "plt.show()\n"
   ]
  },
  {
   "cell_type": "code",
   "execution_count": 62,
   "metadata": {},
   "outputs": [
    {
     "name": "stdout",
     "output_type": "stream",
     "text": [
      "Epoch 1/10, Train Accuracy: 87.53%, Test Accuracy: 86.46%\n",
      "Epoch 2/10, Train Accuracy: 89.18%, Test Accuracy: 88.67%\n"
     ]
    },
    {
     "ename": "KeyboardInterrupt",
     "evalue": "",
     "output_type": "error",
     "traceback": [
      "\u001b[0;31m---------------------------------------------------------------------------\u001b[0m",
      "\u001b[0;31mKeyboardInterrupt\u001b[0m                         Traceback (most recent call last)",
      "\u001b[1;32m/Users/msturman00/Documents/GitHub/Applied-Machine-Learning/hw5.ipynb Cell 14\u001b[0m line \u001b[0;36m3\n\u001b[1;32m     <a href='vscode-notebook-cell:/Users/msturman00/Documents/GitHub/Applied-Machine-Learning/hw5.ipynb#X40sZmlsZQ%3D%3D?line=27'>28</a>\u001b[0m \u001b[39m# Training and Evaluating with Additional Convolution and MaxPooling Layer\u001b[39;00m\n\u001b[1;32m     <a href='vscode-notebook-cell:/Users/msturman00/Documents/GitHub/Applied-Machine-Learning/hw5.ipynb#X40sZmlsZQ%3D%3D?line=28'>29</a>\u001b[0m optimizer \u001b[39m=\u001b[39m optim\u001b[39m.\u001b[39mSGD(enhanced_model\u001b[39m.\u001b[39mparameters(), lr\u001b[39m=\u001b[39m\u001b[39m0.1\u001b[39m)\n\u001b[0;32m---> <a href='vscode-notebook-cell:/Users/msturman00/Documents/GitHub/Applied-Machine-Learning/hw5.ipynb#X40sZmlsZQ%3D%3D?line=29'>30</a>\u001b[0m train_acc_enhanced, test_acc_enhanced \u001b[39m=\u001b[39m train_and_evaluate(enhanced_model, trainloader, testloader, optimizer, loss, num_epochs\u001b[39m=\u001b[39;49m\u001b[39m10\u001b[39;49m)\n\u001b[1;32m     <a href='vscode-notebook-cell:/Users/msturman00/Documents/GitHub/Applied-Machine-Learning/hw5.ipynb#X40sZmlsZQ%3D%3D?line=31'>32</a>\u001b[0m \u001b[39mprint\u001b[39m(\u001b[39mf\u001b[39m\u001b[39m\"\u001b[39m\u001b[39mEnhanced CNN with Additional Layers and Dropout - Test Accuracy: \u001b[39m\u001b[39m{\u001b[39;00mtest_acc_enhanced[\u001b[39m-\u001b[39m\u001b[39m1\u001b[39m]\u001b[39m:\u001b[39;00m\u001b[39m.2f\u001b[39m\u001b[39m}\u001b[39;00m\u001b[39m%\u001b[39m\u001b[39m\"\u001b[39m)\n",
      "\u001b[1;32m/Users/msturman00/Documents/GitHub/Applied-Machine-Learning/hw5.ipynb Cell 14\u001b[0m line \u001b[0;36m9\n\u001b[1;32m      <a href='vscode-notebook-cell:/Users/msturman00/Documents/GitHub/Applied-Machine-Learning/hw5.ipynb#X40sZmlsZQ%3D%3D?line=6'>7</a>\u001b[0m     outputs \u001b[39m=\u001b[39m model(images)\n\u001b[1;32m      <a href='vscode-notebook-cell:/Users/msturman00/Documents/GitHub/Applied-Machine-Learning/hw5.ipynb#X40sZmlsZQ%3D%3D?line=7'>8</a>\u001b[0m     loss \u001b[39m=\u001b[39m loss_fn(outputs, labels)\n\u001b[0;32m----> <a href='vscode-notebook-cell:/Users/msturman00/Documents/GitHub/Applied-Machine-Learning/hw5.ipynb#X40sZmlsZQ%3D%3D?line=8'>9</a>\u001b[0m     loss\u001b[39m.\u001b[39;49mbackward()\n\u001b[1;32m     <a href='vscode-notebook-cell:/Users/msturman00/Documents/GitHub/Applied-Machine-Learning/hw5.ipynb#X40sZmlsZQ%3D%3D?line=9'>10</a>\u001b[0m     optimizer\u001b[39m.\u001b[39mstep()\n\u001b[1;32m     <a href='vscode-notebook-cell:/Users/msturman00/Documents/GitHub/Applied-Machine-Learning/hw5.ipynb#X40sZmlsZQ%3D%3D?line=11'>12</a>\u001b[0m model\u001b[39m.\u001b[39meval()\n",
      "File \u001b[0;32m/opt/homebrew/lib/python3.9/site-packages/torch/_tensor.py:492\u001b[0m, in \u001b[0;36mTensor.backward\u001b[0;34m(self, gradient, retain_graph, create_graph, inputs)\u001b[0m\n\u001b[1;32m    482\u001b[0m \u001b[39mif\u001b[39;00m has_torch_function_unary(\u001b[39mself\u001b[39m):\n\u001b[1;32m    483\u001b[0m     \u001b[39mreturn\u001b[39;00m handle_torch_function(\n\u001b[1;32m    484\u001b[0m         Tensor\u001b[39m.\u001b[39mbackward,\n\u001b[1;32m    485\u001b[0m         (\u001b[39mself\u001b[39m,),\n\u001b[0;32m   (...)\u001b[0m\n\u001b[1;32m    490\u001b[0m         inputs\u001b[39m=\u001b[39minputs,\n\u001b[1;32m    491\u001b[0m     )\n\u001b[0;32m--> 492\u001b[0m torch\u001b[39m.\u001b[39;49mautograd\u001b[39m.\u001b[39;49mbackward(\n\u001b[1;32m    493\u001b[0m     \u001b[39mself\u001b[39;49m, gradient, retain_graph, create_graph, inputs\u001b[39m=\u001b[39;49minputs\n\u001b[1;32m    494\u001b[0m )\n",
      "File \u001b[0;32m/opt/homebrew/lib/python3.9/site-packages/torch/autograd/__init__.py:251\u001b[0m, in \u001b[0;36mbackward\u001b[0;34m(tensors, grad_tensors, retain_graph, create_graph, grad_variables, inputs)\u001b[0m\n\u001b[1;32m    246\u001b[0m     retain_graph \u001b[39m=\u001b[39m create_graph\n\u001b[1;32m    248\u001b[0m \u001b[39m# The reason we repeat the same comment below is that\u001b[39;00m\n\u001b[1;32m    249\u001b[0m \u001b[39m# some Python versions print out the first line of a multi-line function\u001b[39;00m\n\u001b[1;32m    250\u001b[0m \u001b[39m# calls in the traceback and some print out the last line\u001b[39;00m\n\u001b[0;32m--> 251\u001b[0m Variable\u001b[39m.\u001b[39;49m_execution_engine\u001b[39m.\u001b[39;49mrun_backward(  \u001b[39m# Calls into the C++ engine to run the backward pass\u001b[39;49;00m\n\u001b[1;32m    252\u001b[0m     tensors,\n\u001b[1;32m    253\u001b[0m     grad_tensors_,\n\u001b[1;32m    254\u001b[0m     retain_graph,\n\u001b[1;32m    255\u001b[0m     create_graph,\n\u001b[1;32m    256\u001b[0m     inputs,\n\u001b[1;32m    257\u001b[0m     allow_unreachable\u001b[39m=\u001b[39;49m\u001b[39mTrue\u001b[39;49;00m,\n\u001b[1;32m    258\u001b[0m     accumulate_grad\u001b[39m=\u001b[39;49m\u001b[39mTrue\u001b[39;49;00m,\n\u001b[1;32m    259\u001b[0m )\n",
      "\u001b[0;31mKeyboardInterrupt\u001b[0m: "
     ]
    }
   ],
   "source": [
    "class EnhancedCNN(nn.Module):\n",
    "    def __init__(self):\n",
    "        super(EnhancedCNN, self).__init__()\n",
    "        self.conv1 = nn.Conv2d(1, 32, 3)  # Original Convolutional layer\n",
    "        self.pool1 = nn.MaxPool2d(2, 2)   # Original Maxpooling layer\n",
    "        self.conv2 = nn.Conv2d(32, 64, 3) # Additional Convolutional layer with 64 filters\n",
    "        self.pool2 = nn.MaxPool2d(2, 2)   # Additional Maxpooling layer\n",
    "        self.flatten = nn.Flatten()       # Flatten layer\n",
    "        self.dropout = nn.Dropout(0.5)    # Dropout layer\n",
    "        # Adjusted dense layer considering the output of the last maxpooling layer\n",
    "        self.fc1 = nn.Linear(64 * 5 * 5, 100) # Adjusted Dense layer\n",
    "        self.relu = nn.ReLU()                  # ReLU activation\n",
    "        self.fc2 = nn.Linear(100, 10)          # Output layer\n",
    "\n",
    "    def forward(self, x):\n",
    "        x = self.pool1(self.relu(self.conv1(x)))\n",
    "        x = self.pool2(self.relu(self.conv2(x)))\n",
    "        x = self.flatten(x)\n",
    "        x = self.dropout(x)  # Apply dropout here\n",
    "        x = self.relu(self.fc1(x))\n",
    "        x = self.fc2(x)\n",
    "        return x\n",
    "\n",
    "# Instantiate the enhanced model\n",
    "enhanced_model = EnhancedCNN()\n",
    "enhanced_model.apply(init_weights)\n",
    "\n",
    "# Training and Evaluating with Additional Convolution and MaxPooling Layer\n",
    "optimizer = optim.SGD(enhanced_model.parameters(), lr=0.01)\n",
    "train_acc_enhanced, test_acc_enhanced = train_and_evaluate(enhanced_model, trainloader, testloader, optimizer, loss, num_epochs=10)\n",
    "\n",
    "print(f\"Enhanced CNN with Additional Layers and Dropout - Test Accuracy: {test_acc_enhanced[-1]:.2f}%\")"
   ]
  },
  {
   "cell_type": "code",
   "execution_count": null,
   "metadata": {},
   "outputs": [],
   "source": [
    "# Learning Rate 0.001\n",
    "optimizer = optim.SGD(model.parameters(), lr=0.001)\n",
    "train_acc_lr001, test_acc_lr001 = train_and_evaluate(model, trainloader, testloader, optimizer, loss, num_epochs=10)\n",
    "print(f\"Learning Rate 0.001 - Test Accuracy: {test_acc_lr001[-1]:.2f}%\")\n",
    "\n",
    "# Learning Rate 0.1\n",
    "optimizer = optim.SGD(model.parameters(), lr=0.1)\n",
    "train_acc_lr01, test_acc_lr01 = train_and_evaluate(model, trainloader, testloader, optimizer, loss, num_epochs=10)\n",
    "print(f\"Learning Rate 0.1 - Test Accuracy: {test_acc_lr01[-1]:.2f}%\")\n"
   ]
  },
  {
   "cell_type": "markdown",
   "metadata": {},
   "source": [
    "IMPLEMENTATION Following the implementation in class, create a baseline CNN that is specified\n",
    "by the following:\n",
    "\n",
    "(a) A single convolutional layer with 3 x 3 sized window for computing the convolution, with 32 filters\n",
    "\n",
    "(b) Maxpooling layer with 2 x 2 window size.\n",
    "\n",
    "(c) Flatten resulting features to reshape your output appropriately.\n",
    "\n",
    "(d) Dense layer on top of this (100 neurons) with ReLU activation\n",
    "\n",
    "(e) Dense layer with 10 neurons for calculating softmax output (Our classification result will out-put one of the ten possible classes, corresponding to our digits)\n"
   ]
  },
  {
   "cell_type": "code",
   "execution_count": null,
   "metadata": {},
   "outputs": [],
   "source": []
  },
  {
   "cell_type": "markdown",
   "metadata": {},
   "source": []
  }
 ],
 "metadata": {
  "kernelspec": {
   "display_name": "Python 3",
   "language": "python",
   "name": "python3"
  },
  "language_info": {
   "codemirror_mode": {
    "name": "ipython",
    "version": 3
   },
   "file_extension": ".py",
   "mimetype": "text/x-python",
   "name": "python",
   "nbconvert_exporter": "python",
   "pygments_lexer": "ipython3",
   "version": "3.9.17"
  }
 },
 "nbformat": 4,
 "nbformat_minor": 2
}
