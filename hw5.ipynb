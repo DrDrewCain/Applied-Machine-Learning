{
 "cells": [
  {
   "cell_type": "code",
   "execution_count": 9,
   "metadata": {},
   "outputs": [],
   "source": [
    "import torch\n",
    "import torch.nn as nn\n",
    "import torch.optim as optim\n",
    "from torchvision import datasets, transforms\n",
    "from torch.utils.data import DataLoader"
   ]
  },
  {
   "cell_type": "code",
   "execution_count": 3,
   "metadata": {},
   "outputs": [
    {
     "name": "stdout",
     "output_type": "stream",
     "text": [
      "Downloading http://fashion-mnist.s3-website.eu-central-1.amazonaws.com/train-images-idx3-ubyte.gz\n",
      "Downloading http://fashion-mnist.s3-website.eu-central-1.amazonaws.com/train-images-idx3-ubyte.gz to  ~/. pytorch / F_MNIST_data / /FashionMNIST/raw/train-images-idx3-ubyte.gz\n"
     ]
    },
    {
     "name": "stderr",
     "output_type": "stream",
     "text": [
      "100%|██████████| 26421880/26421880 [00:03<00:00, 8641520.30it/s]\n"
     ]
    },
    {
     "name": "stdout",
     "output_type": "stream",
     "text": [
      "Extracting  ~/. pytorch / F_MNIST_data / /FashionMNIST/raw/train-images-idx3-ubyte.gz to  ~/. pytorch / F_MNIST_data / /FashionMNIST/raw\n",
      "\n",
      "Downloading http://fashion-mnist.s3-website.eu-central-1.amazonaws.com/train-labels-idx1-ubyte.gz\n",
      "Downloading http://fashion-mnist.s3-website.eu-central-1.amazonaws.com/train-labels-idx1-ubyte.gz to  ~/. pytorch / F_MNIST_data / /FashionMNIST/raw/train-labels-idx1-ubyte.gz\n"
     ]
    },
    {
     "name": "stderr",
     "output_type": "stream",
     "text": [
      "100%|██████████| 29515/29515 [00:00<00:00, 2996439.04it/s]\n"
     ]
    },
    {
     "name": "stdout",
     "output_type": "stream",
     "text": [
      "Extracting  ~/. pytorch / F_MNIST_data / /FashionMNIST/raw/train-labels-idx1-ubyte.gz to  ~/. pytorch / F_MNIST_data / /FashionMNIST/raw\n",
      "\n",
      "Downloading http://fashion-mnist.s3-website.eu-central-1.amazonaws.com/t10k-images-idx3-ubyte.gz\n",
      "Downloading http://fashion-mnist.s3-website.eu-central-1.amazonaws.com/t10k-images-idx3-ubyte.gz to  ~/. pytorch / F_MNIST_data / /FashionMNIST/raw/t10k-images-idx3-ubyte.gz\n"
     ]
    },
    {
     "name": "stderr",
     "output_type": "stream",
     "text": [
      "100%|██████████| 4422102/4422102 [00:00<00:00, 6710191.42it/s]\n"
     ]
    },
    {
     "name": "stdout",
     "output_type": "stream",
     "text": [
      "Extracting  ~/. pytorch / F_MNIST_data / /FashionMNIST/raw/t10k-images-idx3-ubyte.gz to  ~/. pytorch / F_MNIST_data / /FashionMNIST/raw\n",
      "\n",
      "Downloading http://fashion-mnist.s3-website.eu-central-1.amazonaws.com/t10k-labels-idx1-ubyte.gz\n",
      "Downloading http://fashion-mnist.s3-website.eu-central-1.amazonaws.com/t10k-labels-idx1-ubyte.gz to  ~/. pytorch / F_MNIST_data / /FashionMNIST/raw/t10k-labels-idx1-ubyte.gz\n"
     ]
    },
    {
     "name": "stderr",
     "output_type": "stream",
     "text": [
      "100%|██████████| 5148/5148 [00:00<00:00, 15601356.21it/s]"
     ]
    },
    {
     "name": "stdout",
     "output_type": "stream",
     "text": [
      "Extracting  ~/. pytorch / F_MNIST_data / /FashionMNIST/raw/t10k-labels-idx1-ubyte.gz to  ~/. pytorch / F_MNIST_data / /FashionMNIST/raw\n",
      "\n"
     ]
    },
    {
     "name": "stderr",
     "output_type": "stream",
     "text": [
      "\n"
     ]
    }
   ],
   "source": [
    "transform = transforms . Compose ([ transforms . ToTensor () ,\n",
    "transforms . Normalize ((0.5 , ) ,\n",
    "(0.5 ,) ) ])\n",
    "trainset = datasets . FashionMNIST ( ' ~/. pytorch / F_MNIST_data / ' ,\n",
    "download = True , train = True , transform = transform )\n",
    "trainloader = torch . utils . data . DataLoader ( trainset , batch_size\n",
    "=32 , shuffle = True )\n",
    "testset = datasets . FashionMNIST ( ' ~/. pytorch / F_MNIST_data / ' ,\n",
    "download = True , train = False , transform = transform )\n",
    "testloader = torch . utils . data . DataLoader ( testset , batch_size =32 ,\n",
    "shuffle = False )"
   ]
  },
  {
   "cell_type": "code",
   "execution_count": 4,
   "metadata": {},
   "outputs": [
    {
     "name": "stdout",
     "output_type": "stream",
     "text": [
      "torch.Size([32, 1, 28, 28]) torch.Size([32])\n"
     ]
    }
   ],
   "source": [
    "batch = next ( iter ( trainloader ) )\n",
    "print ( batch [0]. shape , batch [1]. shape )"
   ]
  },
  {
   "cell_type": "code",
   "execution_count": 7,
   "metadata": {},
   "outputs": [
    {
     "data": {
      "image/png": "[encoded data removed]",
      "text/plain": [
       "<Figure size 640x480 with 10 Axes>"
      ]
     },
     "metadata": {},
     "output_type": "display_data"
    }
   ],
   "source": [
    "import matplotlib . pyplot as plt\n",
    "f , ax = plt . subplots (2 , 5)\n",
    "plt . subplots_adjust ( bottom =0.3 , top =0.7 , hspace =0)\n",
    "for i in range (2) :\n",
    "    for j in range (5) :\n",
    "        image , label = next ( iter ( trainloader ) )\n",
    "        ax [ i ][ j ]. set_axis_off ()\n",
    "        ax [ i ][ j ]. imshow ( image [0 ,0 ,:] , cmap = 'gray')"
   ]
  },
  {
   "cell_type": "code",
   "execution_count": 27,
   "metadata": {},
   "outputs": [],
   "source": [
    "# Define the model building function\n",
    "def build_model(input_size, hidden_layers, output_size, activation_fn):\n",
    "    layers = [nn.Linear(input_size, hidden_layers[0]), activation_fn()]\n",
    "    for i in range(1, len(hidden_layers)):\n",
    "        layers.append(nn.Linear(hidden_layers[i-1], hidden_layers[i]))\n",
    "        layers.append(activation_fn())\n",
    "        layers.append(nn.Dropout(0.2))\n",
    "    layers.append(nn.Linear(hidden_layers[-1], output_size))\n",
    "    return nn.Sequential(*layers)\n",
    "\n",
    "def train_model(model, trainloader, criterion, optimizer, num_epochs):\n",
    "    model.train()\n",
    "    for epoch in range(num_epochs):\n",
    "        total = 0\n",
    "        correct = 0\n",
    "        for images, labels in trainloader:\n",
    "            images = images.view(images.size(0), -1)\n",
    "            optimizer.zero_grad()\n",
    "            outputs = model(images)\n",
    "            loss = criterion(outputs, labels)\n",
    "            loss.backward()\n",
    "            optimizer.step()\n",
    "\n",
    "            # Calculate training accuracy\n",
    "            _, predicted = torch.max(outputs.data, 1)\n",
    "            total += labels.size(0)\n",
    "            correct += (predicted == labels).sum().item()\n",
    "    training_accuracy = correct / total\n",
    "    return training_accuracy\n",
    "\n",
    "# Evaluation function\n",
    "def evaluate_model(model, testloader):\n",
    "    model.eval()\n",
    "    correct = 0\n",
    "    total = 0\n",
    "    with torch.no_grad():\n",
    "        for images, labels in testloader:\n",
    "            images = images.view(images.size(0), -1)\n",
    "            outputs = model(images)\n",
    "            _, predicted = torch.max(outputs.data, 1)\n",
    "            total += labels.size(0)\n",
    "            correct += (predicted == labels).sum().item()\n",
    "    return correct / total\n"
   ]
  },
  {
   "cell_type": "code",
   "execution_count": 29,
   "metadata": {},
   "outputs": [
    {
     "name": "stdout",
     "output_type": "stream",
     "text": [
      "Structure: [32], Activation Function: ReLU, Training Accuracy: 0.87%, Testing Accuracy: 0.86%\n",
      "Structure: [64], Activation Function: ReLU, Training Accuracy: 0.88%, Testing Accuracy: 0.86%\n",
      "Structure: [128], Activation Function: ReLU, Training Accuracy: 0.88%, Testing Accuracy: 0.86%\n",
      "Structure: [32, 16], Activation Function: ReLU, Training Accuracy: 0.84%, Testing Accuracy: 0.85%\n",
      "Structure: [64, 32, 16], Activation Function: ReLU, Training Accuracy: 0.84%, Testing Accuracy: 0.85%\n",
      "Structure: [128], Activation Function: ReLU, Training Accuracy: 0.88%, Testing Accuracy: 0.87%\n",
      "Structure: [128], Activation Function: Sigmoid, Training Accuracy: 0.85%, Testing Accuracy: 0.83%\n",
      "Structure: [128], Activation Function: ELU, Training Accuracy: 0.88%, Testing Accuracy: 0.86%\n",
      "Structure: [128], Activation Function: LeakyReLU, Training Accuracy: 0.88%, Testing Accuracy: 0.87%\n"
     ]
    }
   ],
   "source": [
    "# Experiment configurations\n",
    "network_structures = [[32], [64], [128], [32, 16], [64, 32, 16]]\n",
    "input_size = 28*28  # 784 input features\n",
    "output_size = 10    # 10 classes\n",
    "num_epochs = 1000     # Reduced for quicker experimentation\n",
    "\n",
    "results = []\n",
    "\n",
    "# Experiment with different network structures\n",
    "for structure in network_structures:\n",
    "    model = build_model(input_size, structure, output_size, nn.ReLU)\n",
    "    criterion = nn.CrossEntropyLoss()\n",
    "    optimizer = optim.SGD(model.parameters(), lr=0.01)\n",
    "    training_accuracy = train_model(model, trainloader, criterion, optimizer, num_epochs)\n",
    "    test_accuracy = evaluate_model(model, testloader)\n",
    "    results.append({\n",
    "        'structure': structure, \n",
    "        'activation_function': 'ReLU', \n",
    "        'training_accuracy': training_accuracy, \n",
    "        'test_accuracy': test_accuracy\n",
    "    })\n",
    "\n",
    "# Find the best performing structure\n",
    "best_structure = max(results, key=lambda x: x['test_accuracy'])['structure']\n",
    "print(best_structure)\n",
    "\n",
    "activation_functions = [nn.ReLU, nn.Sigmoid, nn.ELU, nn.LeakyReLU]\n",
    "\n",
    "# Experiment with different activation functions on the best performing structure\n",
    "for activation_fn in activation_functions:\n",
    "    model = build_model(input_size, best_structure, output_size, activation_fn)\n",
    "    criterion = nn.CrossEntropyLoss()\n",
    "    optimizer = optim.SGD(model.parameters(), lr=0.01)\n",
    "    training_accuracy = train_model(model, trainloader, criterion, optimizer, num_epochs)\n",
    "    test_accuracy = evaluate_model(model, testloader)\n",
    "    results.append({\n",
    "        'structure': best_structure, \n",
    "        'activation_function': activation_fn.__name__, \n",
    "        'training_accuracy': training_accuracy, \n",
    "        'test_accuracy': test_accuracy\n",
    "    })\n",
    "\n",
    "# Print the results\n",
    "for result in results:\n",
    "    print(f\"Structure: {result['structure']}, \"\n",
    "          f\"Activation Function: {result['activation_function']}, \"\n",
    "          f\"Training Accuracy: {result['training_accuracy']:.2f}%, \"\n",
    "          f\"Testing Accuracy: {result['test_accuracy']:.2f}%\")\n",
    "\n",
    "# Summarize insights here"
   ]
  },
  {
   "cell_type": "code",
   "execution_count": null,
   "metadata": {},
   "outputs": [],
   "source": []
  }
 ],
 "metadata": {
  "kernelspec": {
   "display_name": "Python 3",
   "language": "python",
   "name": "python3"
  },
  "language_info": {
   "codemirror_mode": {
    "name": "ipython",
    "version": 3
   },
   "file_extension": ".py",
   "mimetype": "text/x-python",
   "name": "python",
   "nbconvert_exporter": "python",
   "pygments_lexer": "ipython3",
   "version": "3.9.17"
  }
 },
 "nbformat": 4,
 "nbformat_minor": 2
}
